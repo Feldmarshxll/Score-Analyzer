{
 "cells": [
  {
   "cell_type": "code",
   "execution_count": 2,
   "metadata": {},
   "outputs": [],
   "source": [
    "from openpyxl import load_workbook\n",
    "import os"
   ]
  },
  {
   "cell_type": "markdown",
   "metadata": {},
   "source": [
    "Скрипт №1:\n",
    "1. Открываем существующий Excel\n",
    "2. Считываем организацию\n",
    "3. Считываем имя учащегося\n",
    "4. Считываем класс\n",
    "5. Считываем период обучения"
   ]
  },
  {
   "cell_type": "code",
   "execution_count": 13,
   "metadata": {},
   "outputs": [
    {
     "name": "stdout",
     "output_type": "stream",
     "text": [
      "{'Организация': 'ГБОУ лицей №64', 'Обучающийся': 'Швайко Иван Сергеевич', 'Класс': '9 б', 'Период': 'II четверть'}\n"
     ]
    }
   ],
   "source": [
    "data = load_workbook(r\"D:\\Project\\Score-Analyzer\\data\\Отметки_1.xlsx\")\n",
    "work_sheet = data.active\n",
    "info = {}\n",
    "\n",
    "for row in range(1, 8, 2):\n",
    "    key = work_sheet[f\"A{row}\"].value[:-1]\n",
    "    value = work_sheet[f\"A{row+1}\"].value\n",
    "    info[key] = value\n",
    "\n",
    "print(info)\n",
    "        "
   ]
  }
 ],
 "metadata": {
  "kernelspec": {
   "display_name": ".env",
   "language": "python",
   "name": "python3"
  },
  "language_info": {
   "codemirror_mode": {
    "name": "ipython",
    "version": 3
   },
   "file_extension": ".py",
   "mimetype": "text/x-python",
   "name": "python",
   "nbconvert_exporter": "python",
   "pygments_lexer": "ipython3",
   "version": "3.12.7"
  }
 },
 "nbformat": 4,
 "nbformat_minor": 2
}
